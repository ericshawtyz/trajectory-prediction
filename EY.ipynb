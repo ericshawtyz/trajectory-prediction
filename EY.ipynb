{
 "cells": [
  {
   "cell_type": "markdown",
   "metadata": {
    "colab_type": "text",
    "id": "2eacRAvueg6g"
   },
   "source": [
    "## Import libraries"
   ]
  },
  {
   "cell_type": "code",
   "execution_count": 1,
   "metadata": {},
   "outputs": [
    {
     "name": "stdout",
     "output_type": "stream",
     "text": [
      "\u001b[33mYou are using pip version 10.0.1, however version 19.1 is available.\n",
      "You should consider upgrading via the 'pip install --upgrade pip' command.\u001b[0m\n",
      "\u001b[33mYou are using pip version 10.0.1, however version 19.1 is available.\n",
      "You should consider upgrading via the 'pip install --upgrade pip' command.\u001b[0m\n",
      "\u001b[33mYou are using pip version 10.0.1, however version 19.1 is available.\n",
      "You should consider upgrading via the 'pip install --upgrade pip' command.\u001b[0m\n"
     ]
    }
   ],
   "source": [
    "!pip install xgboost -q\n",
    "!pip install lightgbm -q\n",
    "!pip install imbalanced-learn -q"
   ]
  },
  {
   "cell_type": "code",
   "execution_count": 2,
   "metadata": {
    "colab": {},
    "colab_type": "code",
    "id": "y6_AhIh5o5pq"
   },
   "outputs": [],
   "source": [
    "import lightgbm as lgb\n",
    "import numpy as np\n",
    "import pandas as pd\n",
    "import xgboost as xgb\n",
    "from imblearn.combine import SMOTEENN\n",
    "from imblearn.over_sampling import SMOTE\n",
    "from sklearn.ensemble import AdaBoostRegressor, RandomForestRegressor\n",
    "from sklearn.linear_model import Ridge\n",
    "from sklearn.metrics import confusion_matrix, f1_score, mean_squared_error\n",
    "from sklearn.model_selection import train_test_split\n",
    "from sklearn.multioutput import MultiOutputRegressor\n",
    "from sklearn.neighbors import KNeighborsRegressor\n",
    "from sklearn.neural_network import MLPRegressor\n",
    "from sklearn.preprocessing import MinMaxScaler, StandardScaler\n",
    "from sklearn.tree import DecisionTreeRegressor"
   ]
  },
  {
   "cell_type": "markdown",
   "metadata": {
    "colab_type": "text",
    "id": "r9ASjWCxelTp"
   },
   "source": [
    "## Load data"
   ]
  },
  {
   "cell_type": "code",
   "execution_count": 3,
   "metadata": {
    "colab": {},
    "colab_type": "code",
    "id": "bMVUcAggqsHM"
   },
   "outputs": [],
   "source": [
    "df_train = pd.read_csv('data_train.csv', index_col=0)\n",
    "df_test = pd.read_csv('data_test.csv', index_col=0)"
   ]
  },
  {
   "cell_type": "markdown",
   "metadata": {
    "colab_type": "text",
    "id": "mOSy1hElepJp"
   },
   "source": [
    "## Initialize"
   ]
  },
  {
   "cell_type": "code",
   "execution_count": 4,
   "metadata": {
    "colab": {},
    "colab_type": "code",
    "id": "7rJ73qHuckBY"
   },
   "outputs": [],
   "source": [
    "X_MIN = 3750901.5068\n",
    "X_MAX = 3770901.5068\n",
    "Y_MIN = -19268905.6133\n",
    "Y_MAX = -19208905.6133"
   ]
  },
  {
   "cell_type": "code",
   "execution_count": 5,
   "metadata": {
    "colab": {},
    "colab_type": "code",
    "id": "KJ4bTHEbIt9w"
   },
   "outputs": [],
   "source": [
    "def preprocess(df):\n",
    "    df = df.drop(['vmax', 'vmin', 'vmean'], axis=1)\n",
    "\n",
    "    df['step'] = df['trajectory_id'].apply(lambda x: int(x.split('_')[3]))\n",
    "\n",
    "    df[['time_entry', 'time_exit']] = df[['time_entry', 'time_exit']].apply(pd.to_datetime, format='%H:%M:%S')\n",
    "    df['time_entry_hour'] = df['time_entry'].apply(lambda x: x.hour)\n",
    "    df['time_entry_minute'] = df['time_entry'].apply(lambda x: x.minute)\n",
    "    df['time_entry_second'] = df['time_entry'].apply(lambda x: x.second)\n",
    "    df['time_exit_hour'] = df['time_exit'].apply(lambda x: x.hour)\n",
    "    df['time_exit_minute'] = df['time_exit'].apply(lambda x: x.minute)\n",
    "    df['time_exit_second'] = df['time_exit'].apply(lambda x: x.second)\n",
    "\n",
    "    df['time_delta'] = (df['time_exit'] - df['time_entry']).apply(lambda x: x.seconds)\n",
    "\n",
    "    start_end = df.groupby(['hash']).agg({'step': [np.min, np.max]}).reset_index()\n",
    "    start_end.columns = ['_'.join(tup).rstrip('_') for tup in start_end.columns.values]\n",
    "    df = df.merge(start_end, how='left', on='hash')\n",
    "\n",
    "    for idx in range(len(df)):\n",
    "        if df.at[idx, 'x_entry'] >= X_MIN and df.at[idx, 'x_entry'] <= X_MAX and df.at[idx, 'y_entry'] >= Y_MIN and df.at[idx, 'y_entry'] <= Y_MAX:\n",
    "            df.at[idx, 'entry_in_cc'] = 1\n",
    "        else:\n",
    "            df.at[idx, 'entry_in_cc'] = 0\n",
    "        \n",
    "        if df.at[idx, 'x_exit'] >= X_MIN and df.at[idx, 'x_exit'] <= X_MAX and df.at[idx, 'y_exit'] >= Y_MIN and df.at[idx, 'y_exit'] <= Y_MAX:\n",
    "            df.at[idx, 'actual'] = 1\n",
    "        else:\n",
    "            df.at[idx, 'actual'] = 0\n",
    "\n",
    "        if df.at[idx, 'step'] == df.at[idx, 'step_amin']:\n",
    "            df.at[idx, 'start_point'] = 1\n",
    "            df.at[idx, 'end_point'] = 0\n",
    "            df.at[idx, 'other_point'] = 0\n",
    "        elif df.at[idx, 'step'] == df.at[idx, 'step_amax']:\n",
    "            df.at[idx, 'start_point'] = 0\n",
    "            df.at[idx, 'end_point'] = 1\n",
    "            df.at[idx, 'other_point'] = 0\n",
    "        else:\n",
    "            df.at[idx, 'start_point'] = 0\n",
    "            df.at[idx, 'end_point'] = 0\n",
    "            df.at[idx, 'other_point'] = 1\n",
    "\n",
    "    features = ['entry_in_cc', 'start_point', 'end_point', 'other_point', 'actual']\n",
    "    for feature in features:\n",
    "        df[feature] = df[feature].astype('int')\n",
    "        \n",
    "    cols_to_drop = ['time_entry', 'time_exit', 'step_amin', 'step_amax']\n",
    "    df = df.drop(cols_to_drop, axis=1)\n",
    "\n",
    "    df = df.sort_values(['hash', 'step']).reset_index(drop=True)\n",
    "\n",
    "    return df\n",
    "\n",
    "\n",
    "def get_target(df):\n",
    "    for idx in range(len(df)):\n",
    "        if df.at[idx, 'x_exit'] >= X_MIN and df.at[idx, 'x_exit'] <= X_MAX and df.at[idx, 'y_exit'] >= Y_MIN and df.at[idx, 'y_exit'] <= Y_MAX:\n",
    "            df.at[idx, 'target'] = 1\n",
    "        else:\n",
    "            df.at[idx, 'target'] = 0\n",
    "    df['target'] = df['target'].astype(int)\n",
    "    \n",
    "    return df"
   ]
  },
  {
   "cell_type": "markdown",
   "metadata": {
    "colab_type": "text",
    "id": "qJql2z4SeuIh"
   },
   "source": [
    "## Pre-process"
   ]
  },
  {
   "cell_type": "code",
   "execution_count": 6,
   "metadata": {
    "colab": {},
    "colab_type": "code",
    "id": "guBvTjoYv-Ja"
   },
   "outputs": [],
   "source": [
    "df = preprocess(df_train)"
   ]
  },
  {
   "cell_type": "code",
   "execution_count": 7,
   "metadata": {},
   "outputs": [],
   "source": [
    "hash_count = df.groupby('hash').size().reset_index(name='count')\n",
    "df = df[~df['hash'].isin(hash_count[hash_count['count'] <= 1]['hash'])]"
   ]
  },
  {
   "cell_type": "code",
   "execution_count": 8,
   "metadata": {
    "colab": {
     "base_uri": "https://localhost:8080/",
     "height": 105
    },
    "colab_type": "code",
    "id": "p7xNLhses0LT",
    "outputId": "f9c3ba6f-9c13-4e88-8487-669d855d4764"
   },
   "outputs": [
    {
     "name": "stderr",
     "output_type": "stream",
     "text": [
      "/home/ec2-user/anaconda3/envs/python3/lib/python3.6/site-packages/sklearn/preprocessing/data.py:645: DataConversionWarning: Data with input dtype int64, float64 were all converted to float64 by StandardScaler.\n",
      "  return self.partial_fit(X, y)\n",
      "/home/ec2-user/anaconda3/envs/python3/lib/python3.6/site-packages/ipykernel/__main__.py:5: DataConversionWarning: Data with input dtype int64, float64 were all converted to float64 by StandardScaler.\n"
     ]
    }
   ],
   "source": [
    "scaler = StandardScaler()\n",
    "# scaler = MinMaxScaler()\n",
    "num_cols = list(df.columns.drop(['hash', 'trajectory_id', 'actual', 'entry_in_cc', 'start_point', 'end_point', 'other_point']))\n",
    "scaler.fit(df[num_cols])\n",
    "df[num_cols] = scaler.transform(df[num_cols])"
   ]
  },
  {
   "cell_type": "code",
   "execution_count": 9,
   "metadata": {},
   "outputs": [],
   "source": [
    "# X = df.drop(['x_exit', 'y_exit'], axis=1)\n",
    "# y = df[['x_exit', 'y_exit']]\n",
    "\n",
    "# X_train, X_test, y_train, y_test = train_test_split(X, y, test_size=0.2)"
   ]
  },
  {
   "cell_type": "code",
   "execution_count": 106,
   "metadata": {},
   "outputs": [],
   "source": [
    "X = df.drop(['actual'], axis=1)\n",
    "y = df['actual']\n",
    "\n",
    "X_train, X_test, y_train, y_test = train_test_split(X, y, test_size=0.2)"
   ]
  },
  {
   "cell_type": "code",
   "execution_count": 10,
   "metadata": {},
   "outputs": [],
   "source": [
    "X_train = df.drop(['actual'], axis=1)\n",
    "y_train = df['actual']"
   ]
  },
  {
   "cell_type": "code",
   "execution_count": 107,
   "metadata": {},
   "outputs": [
    {
     "name": "stdout",
     "output_type": "stream",
     "text": [
      "0    569973\n",
      "1    242979\n",
      "Name: actual, dtype: int64\n",
      "0    455822\n",
      "1    194539\n",
      "Name: actual, dtype: int64\n",
      "0    114151\n",
      "1     48440\n",
      "Name: actual, dtype: int64\n"
     ]
    }
   ],
   "source": [
    "print(df.actual.value_counts())\n",
    "print(y_train.value_counts())\n",
    "print(y_test.value_counts())"
   ]
  },
  {
   "cell_type": "code",
   "execution_count": 11,
   "metadata": {
    "scrolled": true
   },
   "outputs": [],
   "source": [
    "# smote = SMOTE()\n",
    "smote = SMOTEENN()\n",
    "X_resampled, y_resampled = smote.fit_resample(X_train.drop(['hash', 'trajectory_id'], axis=1), y_train)\n",
    "\n",
    "X_resampled = pd.DataFrame(X_resampled, columns=X_train.columns.drop(['hash', 'trajectory_id']))\n",
    "X_resampled['actual'] = y_resampled\n",
    "y_resampled = X_resampled[['x_exit', 'y_exit']]\n",
    "X_resampled = X_resampled.drop(['x_exit', 'y_exit'], axis=1)\n",
    "\n",
    "X_train = X_resampled.copy()\n",
    "y_train = y_resampled.copy()"
   ]
  },
  {
   "cell_type": "code",
   "execution_count": 109,
   "metadata": {},
   "outputs": [],
   "source": [
    "X_test = X_test.reset_index(drop=True)\n",
    "X_test['actual'] = y_test.values\n",
    "y_test = X_test[['x_exit', 'y_exit']]\n",
    "X_test = X_test.drop(['x_exit', 'y_exit'], axis=1)"
   ]
  },
  {
   "cell_type": "code",
   "execution_count": 110,
   "metadata": {},
   "outputs": [
    {
     "data": {
      "text/plain": [
       "1    455822\n",
       "0    455822\n",
       "Name: actual, dtype: int64"
      ]
     },
     "execution_count": 110,
     "metadata": {},
     "output_type": "execute_result"
    }
   ],
   "source": [
    "X_resampled.actual.value_counts()"
   ]
  },
  {
   "cell_type": "markdown",
   "metadata": {},
   "source": [
    "## LightGBM"
   ]
  },
  {
   "cell_type": "code",
   "execution_count": 12,
   "metadata": {},
   "outputs": [
    {
     "data": {
      "text/plain": [
       "MultiOutputRegressor(estimator=LGBMRegressor(boosting_type='gbdt', class_weight=None, colsample_bytree=1.0,\n",
       "       importance_type='split', learning_rate=0.1, max_depth=-1,\n",
       "       min_child_samples=20, min_child_weight=0.001, min_split_gain=0.0,\n",
       "       n_estimators=200, n_jobs=-1, num_leaves=91, objective=None,\n",
       "       random_state=None, reg_alpha=0.0, reg_lambda=0.0, silent=True,\n",
       "       subsample=1.0, subsample_for_bin=200000, subsample_freq=0),\n",
       "           n_jobs=None)"
      ]
     },
     "execution_count": 12,
     "metadata": {},
     "output_type": "execute_result"
    }
   ],
   "source": [
    "lgbm_reg = MultiOutputRegressor(lgb.LGBMRegressor(boosting_type='gbdt', n_estimators=200, learning_rate=0.1, num_leaves=91))\n",
    "# lgbm_reg.fit(X_train.drop(['hash', 'trajectory_id', 'actual'], axis=1), y_train)\n",
    "lgbm_reg.fit(X_train.drop(['actual'], axis=1), y_train)"
   ]
  },
  {
   "cell_type": "code",
   "execution_count": 112,
   "metadata": {},
   "outputs": [
    {
     "data": {
      "text/plain": [
       "array([0.11836692, 0.14382242])"
      ]
     },
     "execution_count": 112,
     "metadata": {},
     "output_type": "execute_result"
    }
   ],
   "source": [
    "lgbm_y_pred = lgbm_reg.predict(X_test.drop(['hash', 'trajectory_id', 'actual'], axis=1))\n",
    "mean_squared_error(y_test, lgbm_y_pred, multioutput='raw_values')"
   ]
  },
  {
   "cell_type": "code",
   "execution_count": 113,
   "metadata": {},
   "outputs": [],
   "source": [
    "lgbm_result = pd.concat([X_test.reset_index(drop=True), pd.DataFrame(lgbm_y_pred, columns=['x_exit', 'y_exit'])], axis=1)\n",
    "lgbm_result[num_cols] = scaler.inverse_transform(lgbm_result[num_cols])\n",
    "lgbm_result = get_target(lgbm_result)"
   ]
  },
  {
   "cell_type": "code",
   "execution_count": 114,
   "metadata": {},
   "outputs": [
    {
     "data": {
      "text/plain": [
       "array([[102236,  11915],\n",
       "       [  3056,  45384]])"
      ]
     },
     "execution_count": 114,
     "metadata": {},
     "output_type": "execute_result"
    }
   ],
   "source": [
    "confusion_matrix(lgbm_result.actual, lgbm_result.target)"
   ]
  },
  {
   "cell_type": "code",
   "execution_count": 115,
   "metadata": {},
   "outputs": [
    {
     "data": {
      "text/plain": [
       "0.8584155325849496"
      ]
     },
     "execution_count": 115,
     "metadata": {},
     "output_type": "execute_result"
    }
   ],
   "source": [
    "f1_score(lgbm_result.actual, lgbm_result.target)"
   ]
  },
  {
   "cell_type": "markdown",
   "metadata": {},
   "source": [
    "## AdaBoost"
   ]
  },
  {
   "cell_type": "code",
   "execution_count": 13,
   "metadata": {},
   "outputs": [
    {
     "data": {
      "text/plain": [
       "MultiOutputRegressor(estimator=AdaBoostRegressor(base_estimator=None, learning_rate=0.1, loss='linear',\n",
       "         n_estimators=100, random_state=None),\n",
       "           n_jobs=None)"
      ]
     },
     "execution_count": 13,
     "metadata": {},
     "output_type": "execute_result"
    }
   ],
   "source": [
    "ada_reg = MultiOutputRegressor(AdaBoostRegressor(n_estimators=100, learning_rate=0.1))\n",
    "# ada_reg.fit(X_train.drop(['hash', 'trajectory_id', 'actual'], axis=1), y_train)\n",
    "ada_reg.fit(X_train.drop(['actual'], axis=1), y_train)"
   ]
  },
  {
   "cell_type": "code",
   "execution_count": 117,
   "metadata": {},
   "outputs": [
    {
     "data": {
      "text/plain": [
       "array([0.18881536, 0.21625191])"
      ]
     },
     "execution_count": 117,
     "metadata": {},
     "output_type": "execute_result"
    }
   ],
   "source": [
    "ada_y_pred = ada_reg.predict(X_test.drop(['hash', 'trajectory_id', 'actual'], axis=1))\n",
    "mean_squared_error(y_test, ada_y_pred, multioutput='raw_values')"
   ]
  },
  {
   "cell_type": "code",
   "execution_count": 118,
   "metadata": {},
   "outputs": [],
   "source": [
    "ada_result = pd.concat([X_test.reset_index(drop=True), pd.DataFrame(ada_y_pred, columns=['x_exit', 'y_exit'])], axis=1)\n",
    "ada_result[num_cols] = scaler.inverse_transform(ada_result[num_cols])\n",
    "ada_result = get_target(ada_result)"
   ]
  },
  {
   "cell_type": "code",
   "execution_count": 119,
   "metadata": {},
   "outputs": [
    {
     "data": {
      "text/plain": [
       "array([[92211, 21940],\n",
       "       [ 2374, 46066]])"
      ]
     },
     "execution_count": 119,
     "metadata": {},
     "output_type": "execute_result"
    }
   ],
   "source": [
    "confusion_matrix(ada_result.actual, ada_result.target)"
   ]
  },
  {
   "cell_type": "code",
   "execution_count": 120,
   "metadata": {
    "scrolled": true
   },
   "outputs": [
    {
     "data": {
      "text/plain": [
       "0.7911993542071003"
      ]
     },
     "execution_count": 120,
     "metadata": {},
     "output_type": "execute_result"
    }
   ],
   "source": [
    "f1_score(ada_result.actual, ada_result.target)"
   ]
  },
  {
   "cell_type": "markdown",
   "metadata": {
    "colab_type": "text",
    "id": "Zj6zqSZtexRI"
   },
   "source": [
    "## XGBoost"
   ]
  },
  {
   "cell_type": "code",
   "execution_count": 14,
   "metadata": {
    "colab": {
     "base_uri": "https://localhost:8080/",
     "height": 153
    },
    "colab_type": "code",
    "id": "MmSJc0xQKGkm",
    "outputId": "df4e3229-98e8-4821-872a-75b8ad84ceda"
   },
   "outputs": [
    {
     "data": {
      "text/plain": [
       "MultiOutputRegressor(estimator=XGBRegressor(base_score=0.5, booster='gbtree', boosting_type='dart',\n",
       "       colsample_bylevel=1, colsample_bytree=1, gamma=0,\n",
       "       importance_type='gain', learning_rate=0.1, max_delta_step=0,\n",
       "       max_depth=9, min_child_weight=1, missing=None, n_estimators=200,\n",
       "       n_jobs=1, nthread=None, objective='reg:linear', random_state=0,\n",
       "       reg_alpha=0, reg_lambda=1, scale_pos_weight=1, seed=None,\n",
       "       silent=True, subsample=0.8),\n",
       "           n_jobs=None)"
      ]
     },
     "execution_count": 14,
     "metadata": {},
     "output_type": "execute_result"
    }
   ],
   "source": [
    "xgb_reg = MultiOutputRegressor(xgb.XGBRegressor(boosting_type='dart', n_estimators=200, subsample=0.8, max_depth=9))\n",
    "# xgb_reg.fit(X_train.drop(['hash', 'trajectory_id', 'actual'], axis=1), y_train)\n",
    "xgb_reg.fit(X_train.drop(['actual'], axis=1), y_train)"
   ]
  },
  {
   "cell_type": "code",
   "execution_count": 248,
   "metadata": {
    "colab": {
     "base_uri": "https://localhost:8080/",
     "height": 34
    },
    "colab_type": "code",
    "id": "vQfHU-_eh3oa",
    "outputId": "56178c70-15dc-4de7-e23c-f4569ca2e1c6"
   },
   "outputs": [
    {
     "data": {
      "text/plain": [
       "array([0.11800964, 0.14317444])"
      ]
     },
     "execution_count": 248,
     "metadata": {},
     "output_type": "execute_result"
    }
   ],
   "source": [
    "xgb_y_pred = xgb_reg.predict(X_test.drop(['hash', 'trajectory_id', 'actual'], axis=1))\n",
    "mean_squared_error(y_test, xgb_y_pred, multioutput='raw_values')"
   ]
  },
  {
   "cell_type": "code",
   "execution_count": 249,
   "metadata": {
    "colab": {},
    "colab_type": "code",
    "id": "izJajA2c0CNO"
   },
   "outputs": [],
   "source": [
    "xgb_result = pd.concat([X_test.reset_index(drop=True), pd.DataFrame(xgb_y_pred, columns=['x_exit', 'y_exit'])], axis=1)\n",
    "xgb_result[num_cols] = scaler.inverse_transform(xgb_result[num_cols])\n",
    "xgb_result = get_target(xgb_result)"
   ]
  },
  {
   "cell_type": "code",
   "execution_count": 250,
   "metadata": {
    "colab": {
     "base_uri": "https://localhost:8080/",
     "height": 51
    },
    "colab_type": "code",
    "id": "t0v0FaAO7L94",
    "outputId": "7709feb7-7961-4560-fcfd-386d940cfa19"
   },
   "outputs": [
    {
     "data": {
      "text/plain": [
       "array([[102506,  11645],\n",
       "       [  2983,  45457]])"
      ]
     },
     "execution_count": 250,
     "metadata": {},
     "output_type": "execute_result"
    }
   ],
   "source": [
    "confusion_matrix(xgb_result.actual, xgb_result.target)"
   ]
  },
  {
   "cell_type": "code",
   "execution_count": 251,
   "metadata": {
    "colab": {
     "base_uri": "https://localhost:8080/",
     "height": 34
    },
    "colab_type": "code",
    "id": "mJyED-lg0Ysv",
    "outputId": "61b8b2f0-d53f-4065-8e88-95dc827b9f03"
   },
   "outputs": [
    {
     "data": {
      "text/plain": [
       "0.8614011483579995"
      ]
     },
     "execution_count": 251,
     "metadata": {},
     "output_type": "execute_result"
    }
   ],
   "source": [
    "f1_score(xgb_result.actual, xgb_result.target)"
   ]
  },
  {
   "cell_type": "markdown",
   "metadata": {
    "colab_type": "text",
    "id": "Y_V20krCfPvH"
   },
   "source": [
    "## Random Forest"
   ]
  },
  {
   "cell_type": "code",
   "execution_count": 15,
   "metadata": {
    "colab": {
     "base_uri": "https://localhost:8080/",
     "height": 136
    },
    "colab_type": "code",
    "id": "F1AUeLuGfSC0",
    "outputId": "1952f60f-eb7a-4536-8d1f-8ea2b97d50cf"
   },
   "outputs": [
    {
     "data": {
      "text/plain": [
       "MultiOutputRegressor(estimator=RandomForestRegressor(bootstrap=True, criterion='mse', max_depth=None,\n",
       "           max_features='auto', max_leaf_nodes=None,\n",
       "           min_impurity_decrease=0.0, min_impurity_split=None,\n",
       "           min_samples_leaf=1, min_samples_split=2,\n",
       "           min_weight_fraction_leaf=0.0, n_estimators=100, n_jobs=None,\n",
       "           oob_score=False, random_state=None, verbose=0, warm_start=False),\n",
       "           n_jobs=None)"
      ]
     },
     "execution_count": 15,
     "metadata": {},
     "output_type": "execute_result"
    }
   ],
   "source": [
    "rf_reg = MultiOutputRegressor(RandomForestRegressor(n_estimators=100))\n",
    "# rf_reg.fit(X_train.drop(['hash', 'trajectory_id', 'actual'], axis=1), y_train)\n",
    "rf_reg.fit(X_train.drop(['actual'], axis=1), y_train)"
   ]
  },
  {
   "cell_type": "code",
   "execution_count": 127,
   "metadata": {
    "colab": {
     "base_uri": "https://localhost:8080/",
     "height": 34
    },
    "colab_type": "code",
    "id": "K9kSYArmfR8a",
    "outputId": "88be7120-90fd-4325-f618-8313c8c51167"
   },
   "outputs": [
    {
     "data": {
      "text/plain": [
       "array([0.12070546, 0.14705123])"
      ]
     },
     "execution_count": 127,
     "metadata": {},
     "output_type": "execute_result"
    }
   ],
   "source": [
    "rf_y_pred = rf_reg.predict(X_test.drop(['hash', 'trajectory_id', 'actual'], axis=1))\n",
    "mean_squared_error(y_test, rf_y_pred, multioutput='raw_values')"
   ]
  },
  {
   "cell_type": "code",
   "execution_count": 128,
   "metadata": {
    "colab": {},
    "colab_type": "code",
    "id": "Gvpvt2-4fR53"
   },
   "outputs": [],
   "source": [
    "rf_result = pd.concat([X_test.reset_index(drop=True), pd.DataFrame(rf_y_pred, columns=['x_exit', 'y_exit'])], axis=1)\n",
    "rf_result[num_cols] = scaler.inverse_transform(rf_result[num_cols])\n",
    "rf_result = get_target(rf_result)"
   ]
  },
  {
   "cell_type": "code",
   "execution_count": 129,
   "metadata": {
    "colab": {
     "base_uri": "https://localhost:8080/",
     "height": 51
    },
    "colab_type": "code",
    "id": "6Q2_Ff_0fR3S",
    "outputId": "3063f065-2617-4439-a20d-a1cc73f69108"
   },
   "outputs": [
    {
     "data": {
      "text/plain": [
       "array([[102985,  11166],\n",
       "       [  3449,  44991]])"
      ]
     },
     "execution_count": 129,
     "metadata": {},
     "output_type": "execute_result"
    }
   ],
   "source": [
    "confusion_matrix(rf_result.actual, rf_result.target)"
   ]
  },
  {
   "cell_type": "code",
   "execution_count": 130,
   "metadata": {
    "colab": {
     "base_uri": "https://localhost:8080/",
     "height": 34
    },
    "colab_type": "code",
    "id": "OaoLHG4MfR0t",
    "outputId": "ab513c7c-f6b9-44ba-d45b-d853e2021824"
   },
   "outputs": [
    {
     "data": {
      "text/plain": [
       "0.8602732391942407"
      ]
     },
     "execution_count": 130,
     "metadata": {},
     "output_type": "execute_result"
    }
   ],
   "source": [
    "f1_score(rf_result.actual, rf_result.target)"
   ]
  },
  {
   "cell_type": "markdown",
   "metadata": {},
   "source": [
    "## K-Nearest Neighbors"
   ]
  },
  {
   "cell_type": "code",
   "execution_count": 16,
   "metadata": {},
   "outputs": [
    {
     "data": {
      "text/plain": [
       "MultiOutputRegressor(estimator=KNeighborsRegressor(algorithm='auto', leaf_size=30, metric='minkowski',\n",
       "          metric_params=None, n_jobs=None, n_neighbors=5, p=2,\n",
       "          weights='uniform'),\n",
       "           n_jobs=None)"
      ]
     },
     "execution_count": 16,
     "metadata": {},
     "output_type": "execute_result"
    }
   ],
   "source": [
    "knn_reg = MultiOutputRegressor(KNeighborsRegressor())\n",
    "# knn_reg.fit(X_train.drop(['hash', 'trajectory_id', 'actual'], axis=1), y_train)\n",
    "knn_reg.fit(X_train.drop(['actual'], axis=1), y_train)"
   ]
  },
  {
   "cell_type": "code",
   "execution_count": 132,
   "metadata": {},
   "outputs": [
    {
     "data": {
      "text/plain": [
       "array([0.16032696, 0.18884696])"
      ]
     },
     "execution_count": 132,
     "metadata": {},
     "output_type": "execute_result"
    }
   ],
   "source": [
    "knn_y_pred = knn_reg.predict(X_test.drop(['hash', 'trajectory_id', 'actual'], axis=1))\n",
    "mean_squared_error(y_test, knn_y_pred, multioutput='raw_values')"
   ]
  },
  {
   "cell_type": "code",
   "execution_count": 133,
   "metadata": {},
   "outputs": [],
   "source": [
    "knn_result = pd.concat([X_test.reset_index(drop=True), pd.DataFrame(knn_y_pred, columns=['x_exit', 'y_exit'])], axis=1)\n",
    "knn_result[num_cols] = scaler.inverse_transform(knn_result[num_cols])\n",
    "knn_result = get_target(knn_result)"
   ]
  },
  {
   "cell_type": "code",
   "execution_count": 134,
   "metadata": {},
   "outputs": [
    {
     "data": {
      "text/plain": [
       "array([[103238,  10913],\n",
       "       [  4201,  44239]])"
      ]
     },
     "execution_count": 134,
     "metadata": {},
     "output_type": "execute_result"
    }
   ],
   "source": [
    "confusion_matrix(knn_result.actual, knn_result.target)"
   ]
  },
  {
   "cell_type": "code",
   "execution_count": 135,
   "metadata": {},
   "outputs": [
    {
     "data": {
      "text/plain": [
       "0.8541007027569696"
      ]
     },
     "execution_count": 135,
     "metadata": {},
     "output_type": "execute_result"
    }
   ],
   "source": [
    "f1_score(knn_result.actual, knn_result.target)"
   ]
  },
  {
   "cell_type": "markdown",
   "metadata": {},
   "source": [
    "## Multi-Layer Perceptron"
   ]
  },
  {
   "cell_type": "code",
   "execution_count": 17,
   "metadata": {
    "scrolled": true
   },
   "outputs": [
    {
     "data": {
      "text/plain": [
       "MultiOutputRegressor(estimator=MLPRegressor(activation='relu', alpha=0.0001, batch_size='auto', beta_1=0.9,\n",
       "       beta_2=0.999, early_stopping=False, epsilon=1e-08,\n",
       "       hidden_layer_sizes=(100,), learning_rate='constant',\n",
       "       learning_rate_init=0.001, max_iter=200, momentum=0.9,\n",
       "       n_iter_no_change=10, nesterovs_momentum=True, power_t=0.5,\n",
       "       random_state=None, shuffle=True, solver='adam', tol=0.0001,\n",
       "       validation_fraction=0.1, verbose=False, warm_start=False),\n",
       "           n_jobs=None)"
      ]
     },
     "execution_count": 17,
     "metadata": {},
     "output_type": "execute_result"
    }
   ],
   "source": [
    "mlp_reg = MultiOutputRegressor(MLPRegressor(hidden_layer_sizes=(100,), activation='relu', solver='adam', max_iter=200, tol=1e-4, verbose=False))\n",
    "# mlp_reg.fit(X_train.drop(['hash', 'trajectory_id', 'actual'], axis=1), y_train)\n",
    "mlp_reg.fit(X_train.drop(['actual'], axis=1), y_train)"
   ]
  },
  {
   "cell_type": "code",
   "execution_count": 137,
   "metadata": {},
   "outputs": [
    {
     "data": {
      "text/plain": [
       "array([0.12688234, 0.15089818])"
      ]
     },
     "execution_count": 137,
     "metadata": {},
     "output_type": "execute_result"
    }
   ],
   "source": [
    "mlp_y_pred = mlp_reg.predict(X_test.drop(['hash', 'trajectory_id', 'actual'], axis=1))\n",
    "mean_squared_error(y_test, mlp_y_pred, multioutput='raw_values')"
   ]
  },
  {
   "cell_type": "code",
   "execution_count": 138,
   "metadata": {},
   "outputs": [],
   "source": [
    "mlp_result = pd.concat([X_test.reset_index(drop=True), pd.DataFrame(mlp_y_pred, columns=['x_exit', 'y_exit'])], axis=1)\n",
    "mlp_result[num_cols] = scaler.inverse_transform(mlp_result[num_cols])\n",
    "mlp_result = get_target(mlp_result)"
   ]
  },
  {
   "cell_type": "code",
   "execution_count": 139,
   "metadata": {},
   "outputs": [
    {
     "data": {
      "text/plain": [
       "array([[101445,  12706],\n",
       "       [  3104,  45336]])"
      ]
     },
     "execution_count": 139,
     "metadata": {},
     "output_type": "execute_result"
    }
   ],
   "source": [
    "confusion_matrix(mlp_result.actual, mlp_result.target)"
   ]
  },
  {
   "cell_type": "code",
   "execution_count": 140,
   "metadata": {
    "scrolled": true
   },
   "outputs": [
    {
     "data": {
      "text/plain": [
       "0.8515242012734545"
      ]
     },
     "execution_count": 140,
     "metadata": {},
     "output_type": "execute_result"
    }
   ],
   "source": [
    "f1_score(mlp_result.actual, mlp_result.target)"
   ]
  },
  {
   "cell_type": "markdown",
   "metadata": {},
   "source": [
    "## Decision Tree"
   ]
  },
  {
   "cell_type": "code",
   "execution_count": 18,
   "metadata": {},
   "outputs": [
    {
     "data": {
      "text/plain": [
       "MultiOutputRegressor(estimator=DecisionTreeRegressor(criterion='mse', max_depth=None, max_features=None,\n",
       "           max_leaf_nodes=None, min_impurity_decrease=0.0,\n",
       "           min_impurity_split=None, min_samples_leaf=1,\n",
       "           min_samples_split=2, min_weight_fraction_leaf=0.0,\n",
       "           presort=False, random_state=None, splitter='best'),\n",
       "           n_jobs=None)"
      ]
     },
     "execution_count": 18,
     "metadata": {},
     "output_type": "execute_result"
    }
   ],
   "source": [
    "dt_reg = MultiOutputRegressor(DecisionTreeRegressor())\n",
    "# dt_reg.fit(X_train.drop(['hash', 'trajectory_id', 'actual'], axis=1), y_train)\n",
    "dt_reg.fit(X_train.drop(['actual'], axis=1), y_train)"
   ]
  },
  {
   "cell_type": "code",
   "execution_count": 142,
   "metadata": {},
   "outputs": [
    {
     "data": {
      "text/plain": [
       "array([0.23148138, 0.28909889])"
      ]
     },
     "execution_count": 142,
     "metadata": {},
     "output_type": "execute_result"
    }
   ],
   "source": [
    "dt_y_pred = dt_reg.predict(X_test.drop(['hash', 'trajectory_id', 'actual'], axis=1))\n",
    "mean_squared_error(y_test, dt_y_pred, multioutput='raw_values')"
   ]
  },
  {
   "cell_type": "code",
   "execution_count": 143,
   "metadata": {},
   "outputs": [],
   "source": [
    "dt_result = pd.concat([X_test.reset_index(drop=True), pd.DataFrame(dt_y_pred, columns=['x_exit', 'y_exit'])], axis=1)\n",
    "dt_result[num_cols] = scaler.inverse_transform(dt_result[num_cols])\n",
    "dt_result = get_target(dt_result)"
   ]
  },
  {
   "cell_type": "code",
   "execution_count": 144,
   "metadata": {},
   "outputs": [
    {
     "data": {
      "text/plain": [
       "array([[105762,   8389],\n",
       "       [  6805,  41635]])"
      ]
     },
     "execution_count": 144,
     "metadata": {},
     "output_type": "execute_result"
    }
   ],
   "source": [
    "confusion_matrix(dt_result.actual, dt_result.target)"
   ]
  },
  {
   "cell_type": "code",
   "execution_count": 145,
   "metadata": {},
   "outputs": [
    {
     "data": {
      "text/plain": [
       "0.8456897952551187"
      ]
     },
     "execution_count": 145,
     "metadata": {},
     "output_type": "execute_result"
    }
   ],
   "source": [
    "f1_score(dt_result.actual, dt_result.target)"
   ]
  },
  {
   "cell_type": "markdown",
   "metadata": {},
   "source": [
    "## Ridge Regression"
   ]
  },
  {
   "cell_type": "code",
   "execution_count": 19,
   "metadata": {},
   "outputs": [
    {
     "data": {
      "text/plain": [
       "MultiOutputRegressor(estimator=Ridge(alpha=0.1, copy_X=True, fit_intercept=True, max_iter=5000,\n",
       "   normalize=False, random_state=None, solver='sag', tol=0.001),\n",
       "           n_jobs=None)"
      ]
     },
     "execution_count": 19,
     "metadata": {},
     "output_type": "execute_result"
    }
   ],
   "source": [
    "ridge_reg = MultiOutputRegressor(Ridge(alpha=0.1, solver='sag', max_iter=5000))\n",
    "# ridge_reg.fit(X_train.drop(['hash', 'trajectory_id', 'actual'], axis=1), y_train)\n",
    "ridge_reg.fit(X_train.drop(['actual'], axis=1), y_train)"
   ]
  },
  {
   "cell_type": "code",
   "execution_count": 147,
   "metadata": {},
   "outputs": [
    {
     "data": {
      "text/plain": [
       "array([0.17265291, 0.20880679])"
      ]
     },
     "execution_count": 147,
     "metadata": {},
     "output_type": "execute_result"
    }
   ],
   "source": [
    "ridge_y_pred = ridge_reg.predict(X_test.drop(['hash', 'trajectory_id', 'actual'], axis=1))\n",
    "mean_squared_error(y_test, ridge_y_pred, multioutput='raw_values')"
   ]
  },
  {
   "cell_type": "code",
   "execution_count": 148,
   "metadata": {},
   "outputs": [],
   "source": [
    "ridge_result = pd.concat([X_test.reset_index(drop=True), pd.DataFrame(ridge_y_pred, columns=['x_exit', 'y_exit'])], axis=1)\n",
    "ridge_result[num_cols] = scaler.inverse_transform(ridge_result[num_cols])\n",
    "ridge_result = get_target(ridge_result)"
   ]
  },
  {
   "cell_type": "code",
   "execution_count": 149,
   "metadata": {},
   "outputs": [
    {
     "data": {
      "text/plain": [
       "array([[104899,   9252],\n",
       "       [  5176,  43264]])"
      ]
     },
     "execution_count": 149,
     "metadata": {},
     "output_type": "execute_result"
    }
   ],
   "source": [
    "confusion_matrix(ridge_result.actual, ridge_result.target)"
   ]
  },
  {
   "cell_type": "code",
   "execution_count": 150,
   "metadata": {},
   "outputs": [
    {
     "data": {
      "text/plain": [
       "0.8570862553983915"
      ]
     },
     "execution_count": 150,
     "metadata": {},
     "output_type": "execute_result"
    }
   ],
   "source": [
    "f1_score(ridge_result.actual, ridge_result.target)"
   ]
  },
  {
   "cell_type": "markdown",
   "metadata": {},
   "source": [
    "## Stacking"
   ]
  },
  {
   "cell_type": "code",
   "execution_count": null,
   "metadata": {
    "scrolled": true
   },
   "outputs": [],
   "source": [
    "# stacked_df = X[['hash', 'trajectory_id']].copy()\n",
    "# stacked_df['lgb_x_exit'], stacked_df['lgb_y_exit'] = lgbm_reg.predict(X.drop(['hash', 'trajectory_id', 'actual'], axis=1)).T\n",
    "# stacked_df['ada_x_exit'], stacked_df['ada_y_exit'] = ada_reg.predict(X.drop(['hash', 'trajectory_id', 'actual'], axis=1)).T\n",
    "# stacked_df['xgb_x_exit'], stacked_df['xgb_y_exit'] = xgb_reg.predict(X.drop(['hash', 'trajectory_id', 'actual'], axis=1)).T\n",
    "# stacked_df['rf_x_exit'], stacked_df['rf_y_exit'] = rf_reg.predict(X.drop(['hash', 'trajectory_id', 'actual'], axis=1)).T\n",
    "# stacked_df['knn_x_exit'], stacked_df['knn_y_exit'] = knn_reg.predict(X.drop(['hash', 'trajectory_id', 'actual'], axis=1)).T\n",
    "# stacked_df['mlp_x_exit'], stacked_df['mlp_y_exit'] = mlp_reg.predict(X.drop(['hash', 'trajectory_id', 'actual'], axis=1)).T\n",
    "# stacked_df['dt_x_exit'], stacked_df['dt_y_exit'] = dt_reg.predict(X.drop(['hash', 'trajectory_id', 'actual'], axis=1)).T\n",
    "# stacked_df['ridge_x_exit'], stacked_df['ridge_y_exit'] = ridge_reg.predict(X.drop(['hash', 'trajectory_id', 'actual'], axis=1)).T\n",
    "# stacked_df[['x_exit', 'y_exit']] = y.copy()"
   ]
  },
  {
   "cell_type": "code",
   "execution_count": null,
   "metadata": {
    "scrolled": true
   },
   "outputs": [],
   "source": [
    "# new_X_train = stacked_df.drop(['x_exit', 'y_exit'], axis=1).loc[X_train.index]\n",
    "# new_X_test = stacked_df.drop(['x_exit', 'y_exit'], axis=1).loc[X_test.index]\n",
    "# new_y_train = stacked_df[['x_exit', 'y_exit']].loc[y_train.index]\n",
    "# new_y_test = stacked_df[['x_exit', 'y_exit']].loc[y_test.index]"
   ]
  },
  {
   "cell_type": "code",
   "execution_count": 20,
   "metadata": {},
   "outputs": [],
   "source": [
    "stacked_df = df.copy()\n",
    "stacked_df['lgb_x_exit'], stacked_df['lgb_y_exit'] = lgbm_reg.predict(df.drop(['hash', 'trajectory_id', 'x_exit', 'y_exit', 'actual'], axis=1)).T\n",
    "stacked_df['ada_x_exit'], stacked_df['ada_y_exit'] = ada_reg.predict(df.drop(['hash', 'trajectory_id', 'x_exit', 'y_exit', 'actual'], axis=1)).T\n",
    "stacked_df['xgb_x_exit'], stacked_df['xgb_y_exit'] = xgb_reg.predict(df.drop(['hash', 'trajectory_id', 'x_exit', 'y_exit', 'actual'], axis=1)).T\n",
    "stacked_df['rf_x_exit'], stacked_df['rf_y_exit'] = rf_reg.predict(df.drop(['hash', 'trajectory_id', 'x_exit', 'y_exit', 'actual'], axis=1)).T\n",
    "stacked_df['knn_x_exit'], stacked_df['knn_y_exit'] = knn_reg.predict(df.drop(['hash', 'trajectory_id', 'x_exit', 'y_exit', 'actual'], axis=1)).T\n",
    "stacked_df['mlp_x_exit'], stacked_df['mlp_y_exit'] = mlp_reg.predict(df.drop(['hash', 'trajectory_id', 'x_exit', 'y_exit', 'actual'], axis=1)).T\n",
    "stacked_df['dt_x_exit'], stacked_df['dt_y_exit'] = dt_reg.predict(df.drop(['hash', 'trajectory_id', 'x_exit', 'y_exit', 'actual'], axis=1)).T\n",
    "stacked_df['ridge_x_exit'], stacked_df['ridge_y_exit'] = ridge_reg.predict(df.drop(['hash', 'trajectory_id', 'x_exit', 'y_exit', 'actual'], axis=1)).T\n",
    "\n",
    "new_X_train, new_X_test, new_y_train, new_y_test = train_test_split(stacked_df.drop(['x_exit', 'y_exit'], axis=1),\n",
    "                                                                    stacked_df[['x_exit', 'y_exit']], test_size=0.2)"
   ]
  },
  {
   "cell_type": "code",
   "execution_count": 87,
   "metadata": {},
   "outputs": [],
   "source": [
    "cols = [\n",
    "    'lgb_x_exit', 'lgb_y_exit',\n",
    "#     'ada_x_exit', 'ada_y_exit',\n",
    "    'xgb_x_exit', 'xgb_y_exit',\n",
    "    'rf_x_exit', 'rf_y_exit',\n",
    "    'knn_x_exit', 'knn_y_exit',\n",
    "    'mlp_x_exit', 'mlp_y_exit',\n",
    "    'dt_x_exit', 'dt_y_exit',\n",
    "#     'ridge_x_exit', 'ridge_y_exit'\n",
    "]"
   ]
  },
  {
   "cell_type": "markdown",
   "metadata": {},
   "source": [
    "### Stacking Model"
   ]
  },
  {
   "cell_type": "code",
   "execution_count": 88,
   "metadata": {
    "scrolled": true
   },
   "outputs": [
    {
     "data": {
      "text/plain": [
       "MultiOutputRegressor(estimator=Ridge(alpha=0.1, copy_X=True, fit_intercept=True, max_iter=5000,\n",
       "   normalize=False, random_state=None, solver='sag', tol=0.001),\n",
       "           n_jobs=None)"
      ]
     },
     "execution_count": 88,
     "metadata": {},
     "output_type": "execute_result"
    }
   ],
   "source": [
    "stack_reg = MultiOutputRegressor(Ridge(alpha=0.1, solver='sag', max_iter=5000))\n",
    "stack_reg.fit(new_X_train[cols], new_y_train)"
   ]
  },
  {
   "cell_type": "code",
   "execution_count": 89,
   "metadata": {},
   "outputs": [
    {
     "data": {
      "text/plain": [
       "array([0.02742537, 0.02678705])"
      ]
     },
     "execution_count": 89,
     "metadata": {},
     "output_type": "execute_result"
    }
   ],
   "source": [
    "stack_y_pred = stack_reg.predict(new_X_test[cols])\n",
    "mean_squared_error(new_y_test, stack_y_pred, multioutput='raw_values')"
   ]
  },
  {
   "cell_type": "code",
   "execution_count": 90,
   "metadata": {},
   "outputs": [],
   "source": [
    "stack_result = pd.concat([new_X_test.reset_index(drop=True), pd.DataFrame(stack_y_pred, columns=['x_exit', 'y_exit'])], axis=1)\n",
    "stack_result[num_cols] = scaler.inverse_transform(stack_result[num_cols])\n",
    "stack_result = get_target(stack_result)"
   ]
  },
  {
   "cell_type": "code",
   "execution_count": 91,
   "metadata": {},
   "outputs": [
    {
     "data": {
      "text/plain": [
       "array([[109375,   4710],\n",
       "       [  1834,  46672]])"
      ]
     },
     "execution_count": 91,
     "metadata": {},
     "output_type": "execute_result"
    }
   ],
   "source": [
    "confusion_matrix(stack_result.actual, stack_result.target)"
   ]
  },
  {
   "cell_type": "code",
   "execution_count": 92,
   "metadata": {
    "scrolled": true
   },
   "outputs": [
    {
     "data": {
      "text/plain": [
       "0.9344866250200224"
      ]
     },
     "execution_count": 92,
     "metadata": {},
     "output_type": "execute_result"
    }
   ],
   "source": [
    "f1_score(stack_result.actual, stack_result.target)"
   ]
  },
  {
   "cell_type": "markdown",
   "metadata": {
    "colab_type": "text",
    "id": "imXNNqI6fMjG"
   },
   "source": [
    "## Test set"
   ]
  },
  {
   "cell_type": "code",
   "execution_count": 27,
   "metadata": {
    "scrolled": true
   },
   "outputs": [
    {
     "name": "stderr",
     "output_type": "stream",
     "text": [
      "/home/ec2-user/anaconda3/envs/python3/lib/python3.6/site-packages/ipykernel/__main__.py:2: DataConversionWarning: Data with input dtype int64, float64 were all converted to float64 by StandardScaler.\n",
      "  from ipykernel import kernelapp as app\n"
     ]
    }
   ],
   "source": [
    "test_set = preprocess(df_test)\n",
    "test_set[num_cols] = scaler.transform(test_set.fillna(0)[num_cols])\n",
    "\n",
    "final_df = test_set[['hash', 'trajectory_id']].copy()\n",
    "final_df['lgb_x_exit'], final_df['lgb_y_exit'] = lgbm_reg.predict(test_set.drop(['hash', 'trajectory_id', 'x_exit', 'y_exit', 'actual'], axis=1)).T\n",
    "final_df['ada_x_exit'], final_df['ada_y_exit'] = ada_reg.predict(test_set.drop(['hash', 'trajectory_id', 'x_exit', 'y_exit', 'actual'], axis=1)).T\n",
    "final_df['xgb_x_exit'], final_df['xgb_y_exit'] = xgb_reg.predict(test_set.drop(['hash', 'trajectory_id', 'x_exit', 'y_exit', 'actual'], axis=1)).T\n",
    "final_df['rf_x_exit'], final_df['rf_y_exit'] = rf_reg.predict(test_set.drop(['hash', 'trajectory_id', 'x_exit', 'y_exit', 'actual'], axis=1)).T\n",
    "final_df['knn_x_exit'], final_df['knn_y_exit'] = knn_reg.predict(test_set.drop(['hash', 'trajectory_id', 'x_exit', 'y_exit', 'actual'], axis=1)).T\n",
    "final_df['mlp_x_exit'], final_df['mlp_y_exit'] = mlp_reg.predict(test_set.drop(['hash', 'trajectory_id', 'x_exit', 'y_exit', 'actual'], axis=1)).T\n",
    "final_df['dt_x_exit'], final_df['dt_y_exit'] = dt_reg.predict(test_set.drop(['hash', 'trajectory_id', 'x_exit', 'y_exit', 'actual'], axis=1)).T\n",
    "final_df['ridge_x_exit'], final_df['ridge_y_exit'] = ridge_reg.predict(test_set.drop(['hash', 'trajectory_id', 'x_exit', 'y_exit', 'actual'], axis=1)).T"
   ]
  },
  {
   "cell_type": "code",
   "execution_count": 86,
   "metadata": {
    "scrolled": true
   },
   "outputs": [
    {
     "name": "stdout",
     "output_type": "stream",
     "text": [
      "33515\n",
      "[[108002   9989]\n",
      " [  4413  47018]]\n",
      "0.8671867795422268\n"
     ]
    }
   ],
   "source": [
    "new_test_set = test_set.copy()\n",
    "new_test_set['x_exit'], new_test_set['y_exit'] = stack_reg.predict(final_df.drop(['hash', 'trajectory_id'], axis=1)[cols]).T\n",
    "new_test_set[num_cols] = scaler.inverse_transform(new_test_set[num_cols])\n",
    "new_test_set = get_target(new_test_set)\n",
    "\n",
    "target_id = df_test[~df_test['x_exit'].notnull()]['trajectory_id']\n",
    "\n",
    "new_test_set[new_test_set['trajectory_id'].isin(target_id)][['trajectory_id', 'target']].to_csv('./submission.csv', header=['id', 'target'], index=False)\n",
    "\n",
    "print(len(new_test_set[new_test_set['trajectory_id'].isin(target_id)]))\n",
    "\n",
    "new_test_set = new_test_set[~new_test_set['trajectory_id'].isin(target_id)]\n",
    "\n",
    "print(confusion_matrix(new_test_set.actual, new_test_set.target))\n",
    "print(f1_score(new_test_set.actual, new_test_set.target))"
   ]
  },
  {
   "cell_type": "code",
   "execution_count": 213,
   "metadata": {
    "colab": {
     "base_uri": "https://localhost:8080/",
     "height": 71
    },
    "colab_type": "code",
    "id": "G0Spcr_Q0Ym6",
    "outputId": "183e8e33-0fa9-4253-8fb0-aad83da401da",
    "scrolled": true
   },
   "outputs": [
    {
     "name": "stderr",
     "output_type": "stream",
     "text": [
      "/home/ec2-user/anaconda3/envs/python3/lib/python3.6/site-packages/ipykernel/__main__.py:2: DataConversionWarning: Data with input dtype int64, float64 were all converted to float64 by StandardScaler.\n",
      "  from ipykernel import kernelapp as app\n"
     ]
    },
    {
     "name": "stdout",
     "output_type": "stream",
     "text": [
      "33515\n",
      "[[108920   9071]\n",
      " [  5701  45730]]\n",
      "0.8609458543565027\n"
     ]
    }
   ],
   "source": [
    "test_set = preprocess(df_test)\n",
    "test_set[num_cols] = scaler.transform(test_set.fillna(0)[num_cols])\n",
    "\n",
    "test_set['x_exit'], test_set['y_exit'] = ridge_reg.predict(test_set.drop(['hash', 'trajectory_id', 'x_exit', 'y_exit', 'actual'], axis=1)).T\n",
    "test_set[num_cols] = scaler.inverse_transform(test_set[num_cols])\n",
    "test_set = get_target(test_set)\n",
    "\n",
    "target_id = df_test[~df_test['x_exit'].notnull()]['trajectory_id']\n",
    "\n",
    "test_set[test_set['trajectory_id'].isin(target_id)][['trajectory_id', 'target']].to_csv('./submission.csv', header=['id', 'target'], index=False)\n",
    "\n",
    "print(len(test_set[test_set['trajectory_id'].isin(target_id)]))\n",
    "\n",
    "new_test_set = test_set[~test_set['trajectory_id'].isin(target_id)]\n",
    "\n",
    "print(confusion_matrix(new_test_set.actual, new_test_set.target))\n",
    "print(f1_score(new_test_set.actual, new_test_set.target))"
   ]
  },
  {
   "cell_type": "code",
   "execution_count": null,
   "metadata": {},
   "outputs": [],
   "source": []
  }
 ],
 "metadata": {
  "colab": {
   "collapsed_sections": [],
   "name": "EY.ipynb",
   "provenance": [],
   "version": "0.3.2"
  },
  "kernelspec": {
   "display_name": "conda_python3",
   "language": "python",
   "name": "conda_python3"
  },
  "language_info": {
   "codemirror_mode": {
    "name": "ipython",
    "version": 3
   },
   "file_extension": ".py",
   "mimetype": "text/x-python",
   "name": "python",
   "nbconvert_exporter": "python",
   "pygments_lexer": "ipython3",
   "version": "3.6.5"
  }
 },
 "nbformat": 4,
 "nbformat_minor": 1
}
